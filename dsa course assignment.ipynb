{
 "cells": [
  {
   "cell_type": "code",
   "execution_count": 16,
   "id": "6425c00c",
   "metadata": {},
   "outputs": [],
   "source": [
    "def find_pairs(arr, sum):\n",
    "    if len(arr) < 2:\n",
    "        return []\n",
    "    \n",
    "    result = []\n",
    "    complements = {}\n",
    "    \n",
    "    for num in arr:\n",
    "        complement = sum - num\n",
    "        if complement in complements:\n",
    "            result.append((complement, num))\n",
    "        complements[num] = complement\n",
    "    \n",
    "    return result"
   ]
  },
  {
   "cell_type": "code",
   "execution_count": 17,
   "id": "e416a43a",
   "metadata": {},
   "outputs": [
    {
     "name": "stdout",
     "output_type": "stream",
     "text": [
      "True\n"
     ]
    }
   ],
   "source": [
    "3.def is_rotation(s1, s2):\n",
    "    if len(s1) != len(s2):\n",
    "        return False\n",
    "\n",
    "    concat = s1 + s1\n",
    "    if s2 in concat:\n",
    "        return True\n",
    "    else:\n",
    "        return False\n",
    "\n",
    "s1 = \"waterbottle\"\n",
    "s2 = \"erbottlewat\"\n",
    "print(is_rotation(s1, s2)) # Output: True"
   ]
  },
  {
   "cell_type": "code",
   "execution_count": 18,
   "id": "8bf750fe",
   "metadata": {},
   "outputs": [
    {
     "name": "stdout",
     "output_type": "stream",
     "text": [
      "H\n"
     ]
    }
   ],
   "source": [
    "4.def first_non_repeated_character(s):\n",
    "    char_count = {}\n",
    "    for char in s:\n",
    "        if char in char_count:\n",
    "            char_count[char] += 1\n",
    "        else:\n",
    "            char_count[char] = 1\n",
    "\n",
    "    for char in s:\n",
    "        if char_count[char] == 1:\n",
    "            return char\n",
    "\n",
    "    return None\n",
    "\n",
    "s = \"Hello, world!\"\n",
    "print(first_non_repeated_character(s)) # Output: ','"
   ]
  },
  {
   "cell_type": "code",
   "execution_count": 23,
   "id": "b52e1945",
   "metadata": {},
   "outputs": [
    {
     "name": "stdout",
     "output_type": "stream",
     "text": [
      "Enter the number of disks: 3\n",
      "Move disk 1 from source A to destination C\n",
      "Move disk 2 from source A to destination B\n",
      "Move disk 1 from source C to destination B\n",
      "Move disk 3 from source A to destination C\n",
      "Move disk 1 from source B to destination A\n",
      "Move disk 2 from source B to destination C\n",
      "Move disk 1 from source A to destination C\n"
     ]
    }
   ],
   "source": [
    "5.def tower_of_hanoi(n, source, destination, auxiliary):\n",
    "    if n == 1:\n",
    "        print(\"Move disk 1 from source\", source, \"to destination\", destination)\n",
    "        return\n",
    "\n",
    "    tower_of_hanoi(n - 1, source, auxiliary, destination)\n",
    "    print(\"Move disk\", n, \"from source\", source, \"to destination\", destination)\n",
    "    tower_of_hanoi(n - 1, auxiliary, destination, source)\n",
    "\n",
    "n = int(input(\"Enter the number of disks: \"))\n",
    "tower_of_hanoi(n, 'A', 'C', 'B')"
   ]
  },
  {
   "cell_type": "code",
   "execution_count": null,
   "id": "d8b0b52f",
   "metadata": {},
   "outputs": [],
   "source": [
    "6.def postfix_to_prefix(postfix):\n",
    "    stack = []\n",
    "    for char in postfix:\n",
    "        if char.isalpha():\n",
    "            stack.append(char)\n",
    "        else:\n",
    "            right = stack.pop()\n",
    "            left = stack.pop()\n",
    "            stack.append(char + left + right)\n",
    "    return stack.pop()\n",
    "\n",
    "postfix = input(\"Enter a postfix expression: \")\n",
    "print(\"The prefix expression is:\", postfix_to_prefix(postfix))"
   ]
  },
  {
   "cell_type": "code",
   "execution_count": null,
   "id": "9a835a0f",
   "metadata": {},
   "outputs": [],
   "source": []
  },
  {
   "cell_type": "code",
   "execution_count": null,
   "id": "2bc3ee83",
   "metadata": {},
   "outputs": [],
   "source": [
    "7.def prefix_to_infix(prefix):\n",
    "    stack = []\n",
    "    for char in prefix:\n",
    "        if char.isalpha():\n",
    "            stack.append(char)\n",
    "        else:\n",
    "            stack.append(char + stack.pop() + stack.pop())\n",
    "    return stack.pop()\n",
    "\n",
    "prefix = input(\"Enter a prefix expression: \")\n",
    "print(\"The infix expression is:\", prefix_to_infix(prefix))"
   ]
  },
  {
   "cell_type": "code",
   "execution_count": null,
   "id": "0e623ac9",
   "metadata": {},
   "outputs": [],
   "source": [
    "#8. Write a program to check if all the brackets are closed in a given code snippet.\n",
    "def check_brackets(code):\n",
    "    stack = []\n",
    "    for char in code:\n",
    "        if char in '[({':\n",
    "            stack.append(char)\n",
    "        elif char in '])}':\n",
    "            if not stack:\n",
    "                return False\n",
    "            elif char == ']' and stack.pop() != '[':\n",
    "                return False\n",
    "            elif char == ')' and stack.pop() != '(':\n",
    "                return False\n",
    "            elif char == '}' and stack.pop() != '{':\n",
    "                return False\n",
    "    return not stack\n",
    "\n",
    "code = input(\"Enter a code snippet: \")\n",
    "print(\"All brackets are closed\" if check_brackets(code) else \"Brackets are not closed properly\")"
   ]
  },
  {
   "cell_type": "code",
   "execution_count": null,
   "id": "14802e85",
   "metadata": {},
   "outputs": [],
   "source": []
  },
  {
   "cell_type": "code",
   "execution_count": null,
   "id": "e3fe9c10",
   "metadata": {},
   "outputs": [],
   "source": [
    "9.def reverse_stack(stack):\n",
    "    return stack[::-1]\n",
    "\n",
    "stack = input(\"Enter a stack of elements: \").split()\n",
    "print(\"The reversed stack is:\", reverse_stack(stack))"
   ]
  },
  {
   "cell_type": "code",
   "execution_count": null,
   "id": "20e819fd",
   "metadata": {},
   "outputs": [],
   "source": [
    "10.def find_smallest(stack):\n",
    "    min_element = stack[0]\n",
    "    for element in stack:\n",
    "        if element < min_element:\n",
    "            min_element = element\n",
    "    return min_element\n",
    "\n",
    "stack = input(\"Enter a stack of elements: \").split()\n",
    "print(\"The smallest number in the stack is:\", find_smallest(stack))"
   ]
  },
  {
   "cell_type": "code",
   "execution_count": null,
   "id": "a3d9fc6e",
   "metadata": {},
   "outputs": [],
   "source": [
    "2.def reverse_array(array):\n",
    "    start = 0\n",
    "    end = len(array) - 1\n",
    "\n",
    "    while start < end:\n",
    "        array[start], array[end] = array[end], array[start]\n",
    "        start += 1\n",
    "        end -= 1\n",
    "\n",
    "array = input(\"Enter an array of numbers: \").split()\n",
    "array = [int(x) for x in array]\n",
    "reverse_array(array)\n",
    "print(\"The reversed array is:\", array)"
   ]
  },
  {
   "cell_type": "code",
   "execution_count": null,
   "id": "ea14ab79",
   "metadata": {},
   "outputs": [],
   "source": []
  }
 ],
 "metadata": {
  "kernelspec": {
   "display_name": "Python 3 (ipykernel)",
   "language": "python",
   "name": "python3"
  },
  "language_info": {
   "codemirror_mode": {
    "name": "ipython",
    "version": 3
   },
   "file_extension": ".py",
   "mimetype": "text/x-python",
   "name": "python",
   "nbconvert_exporter": "python",
   "pygments_lexer": "ipython3",
   "version": "3.11.5"
  }
 },
 "nbformat": 4,
 "nbformat_minor": 5
}
